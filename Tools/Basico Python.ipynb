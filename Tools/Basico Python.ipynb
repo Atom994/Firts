{
 "cells": [
  {
   "cell_type": "code",
   "execution_count": 1,
   "metadata": {},
   "outputs": [],
   "source": [
    "#TIPOS DE DATOS"
   ]
  },
  {
   "cell_type": "code",
   "execution_count": 2,
   "metadata": {},
   "outputs": [
    {
     "name": "stdout",
     "output_type": "stream",
     "text": [
      "25\n"
     ]
    }
   ],
   "source": [
    "# INT\n",
    "a = 25  # int (entero) > Numeros > Estos pueden ser numero negativos o cero\n",
    "print(a)"
   ]
  },
  {
   "cell_type": "code",
   "execution_count": 3,
   "metadata": {},
   "outputs": [
    {
     "name": "stdout",
     "output_type": "stream",
     "text": [
      "25.0\n"
     ]
    }
   ],
   "source": [
    "# FLOAT\n",
    "a = 25.0  # float\n",
    "print(a)"
   ]
  },
  {
   "cell_type": "code",
   "execution_count": 4,
   "metadata": {},
   "outputs": [
    {
     "name": "stdout",
     "output_type": "stream",
     "text": [
      "Hola Mundo\n"
     ]
    }
   ],
   "source": [
    "# STRINGS\n",
    "a = \"Hola Mundo\"  # String > Cadena de texto\n",
    "print(a)"
   ]
  },
  {
   "cell_type": "code",
   "execution_count": 5,
   "metadata": {},
   "outputs": [
    {
     "name": "stdout",
     "output_type": "stream",
     "text": [
      "True\n"
     ]
    }
   ],
   "source": [
    "# BOLEEAN\n",
    "a = True or False  # Boleean > La primer letra debe ir en MAYUSCULA\n",
    "print(a)"
   ]
  },
  {
   "cell_type": "code",
   "execution_count": 6,
   "metadata": {},
   "outputs": [
    {
     "name": "stdout",
     "output_type": "stream",
     "text": [
      "<class 'bool'>\n"
     ]
    }
   ],
   "source": [
    "# print(type(a)) > Para saber el tipo de dato que se esta trabajando\n",
    "a = True\n",
    "print(type(a))"
   ]
  },
  {
   "cell_type": "code",
   "execution_count": 7,
   "metadata": {},
   "outputs": [
    {
     "name": "stdout",
     "output_type": "stream",
     "text": [
      "Edad: 15\n"
     ]
    }
   ],
   "source": [
    "# Imprimir un numero + un texto > Se debe poner str o el codigo del tipo de dato.\n",
    "a = 15\n",
    "print(\"Edad: \" + str(a))"
   ]
  },
  {
   "cell_type": "code",
   "execution_count": 8,
   "metadata": {},
   "outputs": [],
   "source": [
    "#CONDICIONALES\n",
    "#Son una pregunta, si cierta condicion se da ejecuta un pedazo de codigo\n",
    "#Se usa If, Else o Elif > Son palabras reservadas, es decir, No se pueden utilziar en variables."
   ]
  },
  {
   "cell_type": "code",
   "execution_count": 28,
   "metadata": {},
   "outputs": [
    {
     "name": "stdout",
     "output_type": "stream",
     "text": [
      "El numero es cero\n"
     ]
    }
   ],
   "source": [
    "#IF, ELIF & ELSE\n",
    "numero = 0\n",
    "if numero > 1:\n",
    "    print(\"La condicion se cumplio\")\n",
    "    print(\"Hurra!\")\n",
    "#If si se cumple la condicion aparece el resultado, peude haber multiples resultados\n",
    "# > significa mayor 5 > 4\n",
    "# < significa menor 4 < 6\n",
    "# >= significa mayor o igual 5 > 4 / tambien el = se puede usar con el negativo\n",
    "# != significa distinto que el dato que quieres poner 5 != 4\n",
    "elif numero == 0:\n",
    "    print(\"El numero es cero\")\n",
    "else:\n",
    "    print(\"La condicion no se cumplio\")\n",
    "    print(\"Rayos!\")\n",
    "#Else se utiliza cuando la primera condicion no se cumple, va al otro pedazo.\n",
    "#Se puede jugar con el \"numero\", puede ser negativo, positivo o cero"
   ]
  },
  {
   "cell_type": "code",
   "execution_count": 34,
   "metadata": {},
   "outputs": [
    {
     "name": "stdout",
     "output_type": "stream",
     "text": [
      "conficion cumplida\n"
     ]
    }
   ],
   "source": [
    "#AND & OR\n",
    "a = 8\n",
    "b = 9\n",
    "if a != b or a > b: #se puede poner or o and\n",
    "    print(\"conficion cumplida\")"
   ]
  },
  {
   "cell_type": "code",
   "execution_count": 35,
   "metadata": {},
   "outputs": [],
   "source": [
    "#REPETITIVAS\n",
    "#Sirve para ejecutar un bloque de codiga varias veces, si NO se quiere copiar y pegar un pedaso de codigo varias veces se usa una repetitiva.\n",
    "#Se utiliza WHILE & FOR"
   ]
  },
  {
   "cell_type": "code",
   "execution_count": 1,
   "metadata": {},
   "outputs": [
    {
     "name": "stdout",
     "output_type": "stream",
     "text": [
      "Hola\n",
      "Hola\n",
      "Hola\n",
      "Hola\n",
      "Hola\n"
     ]
    }
   ],
   "source": [
    "i = 0\n",
    "while i < 5:\n",
    "    print(\"Hola\")\n",
    "    i += 1 #Ponerlo de manera importante sino se realizara de manera infinita."
   ]
  },
  {
   "cell_type": "code",
   "execution_count": 2,
   "metadata": {},
   "outputs": [],
   "source": [
    "#FUNCIONES\n",
    "#Bloque de codigo que se puede usar las veces que se quiera mientras se sepa cual es el nombre de la funcion.\n",
    "#Sirve para tener el codigo mas ordenado.\n",
    "#Se utiliza el cofigo DEF"
   ]
  },
  {
   "cell_type": "code",
   "execution_count": 8,
   "metadata": {},
   "outputs": [
    {
     "name": "stdout",
     "output_type": "stream",
     "text": [
      "Hola David!\n"
     ]
    }
   ],
   "source": [
    "#La primera palabra de la funcion comienza en minuscula, luego la segunda comienza en mayuscula, esto es una regla general y se llama \"Camel Case\"\n",
    "def miFuncion():\n",
    "    nombre = \"David\"\n",
    "    return \"Hola \" + nombre + \"!\"\n",
    "#Return lo que hace es devolver la funcion para luego guardarlo en una variable. Otra forma es utilizar en vez de \"return\", usar \"print()\" pero este ultimo no es una buena practica... En el futuro vere el porque...\n",
    "\n",
    "resultado = miFuncion()\n",
    "print(resultado)"
   ]
  },
  {
   "cell_type": "code",
   "execution_count": 10,
   "metadata": {},
   "outputs": [
    {
     "name": "stdout",
     "output_type": "stream",
     "text": [
      "110\n"
     ]
    }
   ],
   "source": [
    "def suma(numero1, numero2):\n",
    "    return numero1 + numero2\n",
    "a = 50\n",
    "b = 60\n",
    "resultado = suma(a, b)\n",
    "print(resultado)\n",
    "#Si aqui nos pasan un texto mas un numero esto se romperia ya que no se puede concatenar numero y letras sin la funcion del tipo de dato."
   ]
  },
  {
   "cell_type": "code",
   "execution_count": 11,
   "metadata": {},
   "outputs": [],
   "source": [
    "#LISTAS / ARREGLOS\n",
    "#Son variables que tienen varios arreglos"
   ]
  },
  {
   "cell_type": "code",
   "execution_count": 13,
   "metadata": {},
   "outputs": [
    {
     "name": "stdout",
     "output_type": "stream",
     "text": [
      "[3, 6, 5]\n"
     ]
    }
   ],
   "source": [
    "miLista = [3, 6, 5]\n",
    "print(miLista)\n",
    "#Pueden tener diferentes tipos de datos"
   ]
  },
  {
   "cell_type": "code",
   "execution_count": 18,
   "metadata": {},
   "outputs": [
    {
     "name": "stdout",
     "output_type": "stream",
     "text": [
      "Chau\n"
     ]
    }
   ],
   "source": [
    "miLista = [15, \"Hola\", True]\n",
    "miLista[1] = \"Chau\" #Esta linea modifica \"Hola\"\n",
    "print(miLista[1]) #Los parentesis sirven para llamar unicamente al dato del puesto que estas porniendo, el priemr dato comeinza con 0. Juega de 0 al 2."
   ]
  },
  {
   "cell_type": "code",
   "execution_count": 19,
   "metadata": {},
   "outputs": [
    {
     "name": "stdout",
     "output_type": "stream",
     "text": [
      "[6, 7, 8, 9, 10, 11, 12]\n"
     ]
    }
   ],
   "source": [
    "#Forma 1: Suma +5 a los numeros de miLista\n",
    "miLista = [1,2,3,4,5,6,7]\n",
    "miLista[0] += 5\n",
    "miLista[1] += 5\n",
    "miLista[2] += 5\n",
    "miLista[3] += 5\n",
    "miLista[4] += 5\n",
    "miLista[5] += 5\n",
    "miLista[6] += 5\n",
    "print(miLista)"
   ]
  },
  {
   "cell_type": "code",
   "execution_count": 42,
   "metadata": {},
   "outputs": [
    {
     "name": "stdout",
     "output_type": "stream",
     "text": [
      "1\n",
      "2\n",
      "3\n",
      "4\n",
      "5\n",
      "6\n",
      "7\n"
     ]
    }
   ],
   "source": [
    "miLista = [1,2,3,4,5,6,7]\n",
    "for elemento in miLista:\n",
    "    print(elemento)\n",
    "#Se podria decir que FOR hace que se almacene en una VARIABLE provisoria los datos y se ejecuta la cantidad de datos que existenm en este caso serian los datos dentro de miLista y se ejecutarian 7 veces y usanto el ejemplo anterior, acabaria en 6 porque 0 es el primer numero."
   ]
  },
  {
   "cell_type": "code",
   "execution_count": 31,
   "metadata": {},
   "outputs": [
    {
     "name": "stdout",
     "output_type": "stream",
     "text": [
      "[6, 7, 8, 9, 10, 11, 12]\n"
     ]
    }
   ],
   "source": [
    "#Forma 2: Suma +5 a los numeros de miLista, usando repetitivas.\n",
    "miLista = [1,2,3,4,5,6,7]\n",
    "Indice = 0\n",
    "for elemento in miLista:\n",
    "    #miLista[Indice] = elemento + 5 > Forma basica \n",
    "    miLista[Indice] += 5 #Forma compacta\n",
    "    Indice += 1\n",
    "print(miLista)"
   ]
  },
  {
   "cell_type": "code",
   "execution_count": 32,
   "metadata": {},
   "outputs": [],
   "source": [
    "#Ejercicio 1: Funcion qque reciba lista y devuelve lista con solo numeros positivos."
   ]
  },
  {
   "cell_type": "code",
   "execution_count": 1,
   "metadata": {},
   "outputs": [
    {
     "name": "stdout",
     "output_type": "stream",
     "text": [
      "[5, 5]\n"
     ]
    }
   ],
   "source": [
    "def devolverPositivos(lista):\n",
    "    positivos = []\n",
    "    for elem in lista:\n",
    "        if elem >= 0:\n",
    "            positivos.append(elem)\n",
    "    return positivos\n",
    "#elem = elementos > Unicamente se abrevio\n",
    "resultado = devolverPositivos([5,-6,5,-80,-25])\n",
    "print(resultado)"
   ]
  }
 ],
 "metadata": {
  "interpreter": {
   "hash": "7353ea872765c79df33189606c3a2455290e71d5c557a487f86290eb518e6167"
  },
  "kernelspec": {
   "display_name": "Python 3.10.4 64-bit",
   "language": "python",
   "name": "python3"
  },
  "language_info": {
   "codemirror_mode": {
    "name": "ipython",
    "version": 3
   },
   "file_extension": ".py",
   "mimetype": "text/x-python",
   "name": "python",
   "nbconvert_exporter": "python",
   "pygments_lexer": "ipython3",
   "version": "3.10.4"
  },
  "orig_nbformat": 4
 },
 "nbformat": 4,
 "nbformat_minor": 2
}
