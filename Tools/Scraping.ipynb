{
 "cells": [
  {
   "cell_type": "code",
   "execution_count": 15,
   "metadata": {},
   "outputs": [],
   "source": [
    "import requests\n",
    "import lxml.html as html\n",
    "import pandas as pd\n",
    "from bs4 import BeautifulSoup\n",
    "import pandas as pd"
   ]
  },
  {
   "cell_type": "code",
   "execution_count": 16,
   "metadata": {},
   "outputs": [],
   "source": [
    "url_padre = \"https://www.rappi.com.pe/restaurantes\"\n",
    "root_url = \"https://www.rappi.com.pe\""
   ]
  },
  {
   "cell_type": "code",
   "execution_count": 17,
   "metadata": {},
   "outputs": [],
   "source": [
    "#Links de tiendas\n",
    "links_tiendas = '//div[@class=\"Catalogstyles__RestaurantCatalogContainer-sc-1xfosua-4 cFDYBl\"]//a//@href'\n",
    "#Links de titulos de las tiendas\n",
    "titulo = '//h3[@class=\"sc-bdVaJa kzUGaC RestaurantCatalogItem__RestaurantTitle-sc-8v9xyp-2 jWSTqf\"]//text()'\n",
    "#Links de las estrellas de las tiendas\n",
    "estrellas = '//div[@class=\"RestaurantCatalogItem__DetailContainer-sc-8v9xyp-5 fYfmKj\"]//span[@class=\"sc-bdVaJa exHXJW RestaurantCatalogItem__RestaurantRating-sc-8v9xyp-3 gfcfBv\"]//text()'"
   ]
  },
  {
   "cell_type": "code",
   "execution_count": 18,
   "metadata": {},
   "outputs": [],
   "source": [
    "r = requests.get(url_padre)\n",
    "#print(r.status_code)  > Para ver si funciona bien\n",
    "home = r.content.decode(\"utf-8\")\n",
    "parser = html.fromstring(home)\n",
    "tiendas_url = parser.xpath(links_tiendas)\n",
    "#print(tiendas_url) > Para ver si funciona bien\n",
    "tiendas_url =[root_url+x for x in tiendas_url]\n",
    "#tiendas_url > Se pone y luego enter"
   ]
  },
  {
   "cell_type": "code",
   "execution_count": 19,
   "metadata": {},
   "outputs": [
    {
     "name": "stdout",
     "output_type": "stream",
     "text": [
      "['Don Bajadón Barranco', 'Street Pizza', 'alitas express 51', 'Sabushi-Sushi Surquillo', 'La Brosteria 786', 'Subway Pardo', 'Iwa Sushi Bar Surquillo', 'Canelina', 'Don Bajadón Barranco', 'Street Pizza', 'alitas express 51', 'Sabushi-Sushi Surquillo', 'La Brosteria 786', 'Subway Pardo', 'Iwa Sushi Bar Surquillo', 'Canelina', 'Shimaya Ramen Diagonal ', 'SABUSHI SUSHI.', 'Deli Yeli - Fusion Criolla', 'PizzaBell - Saludable', 'La Aliteria Av. Los Faisanes 358', 'Clasico Grill Surco ', 'Gastronomusica Streetfood', 'Naed Enrollados - Barranco', 'La Polleria 786', 'Cheesecake To Go Miraflores', 'XPizza 24H Delivery', 'Nocturnos Tex-Mex', 'Inka Burger', \"Uka's burger Costa Azul\", 'Primos Chicken Bar Armendariz', 'Edo Sushi Bar Miraflores', 'Refilo Benavides', 'Mó Café', 'Sushi Pop', 'La Fina Endorfina', 'Miss Cupcakes', 'Popolo Pizza Miraflores '] ['3.8', '4.1', '4', '4.4', '3.1', '4.2', '3.9', '4.6', '3.8', '4.1', '4', '4.4', '3.1', '4.2', '3.9', '4.6', '4.2', '4', '4', '4', '4.3', '3.4', '4.5', '4.1', '4.4', '4.4', '4.2', '4.4', '4.4', '4.7', '4.7', '4.2']\n"
     ]
    }
   ],
   "source": [
    "r = requests.get(url_padre)\n",
    "home = r.content.decode(\"utf-8\")\n",
    "parser = html.fromstring(home)\n",
    "etitulo = parser.xpath(titulo)\n",
    "prc = parser.xpath(estrellas)\n",
    "print(etitulo, prc)"
   ]
  },
  {
   "cell_type": "code",
   "execution_count": 20,
   "metadata": {},
   "outputs": [
    {
     "name": "stdout",
     "output_type": "stream",
     "text": [
      "['3.8', '4.1', '4', '4.4', '3.1', '4.2', '3.9', '4.6', '3.8', '4.1', '4', '4.4', '3.1', '4.2', '3.9', '4.6', '4.2', '4', '4', '4', '4.3', '3.4', '4.5', '4.1', '4.4', '4.4', '4.2', '4.4', '4.4', '4.7', '4.7', '4.2']\n"
     ]
    }
   ],
   "source": [
    "r = requests.get(url_padre)\n",
    "home = r.content.decode(\"utf-8\")\n",
    "parser = html.fromstring(home)\n",
    "eestrellas = parser.xpath(estrellas)\n",
    "print(eestrellas)"
   ]
  },
  {
   "cell_type": "code",
   "execution_count": 21,
   "metadata": {},
   "outputs": [],
   "source": [
    "def get_urls(url_padre):\n",
    "    root_url = \"https://www.rappi.com.pe\"\n",
    "    links_tiendas = '//div[@class=\"Catalogstyles__RestaurantCatalogContainer-sc-1xfosua-4 cFDYBl\"]//a//@href'\n",
    "    r = requests.get(url_padre)\n",
    "    home = r.content.decode(\"utf-8\")\n",
    "    parser = html.fromstring(home)\n",
    "    tiendas_url = parser.xpath(links_tiendas)\n",
    "    tiendas_url =[root_url+x for x in tiendas_url]\n",
    "    return tiendas_url"
   ]
  },
  {
   "cell_type": "code",
   "execution_count": 22,
   "metadata": {},
   "outputs": [],
   "source": [
    "def parser_content(url):\n",
    "    contenido_dic={}\n",
    "    r = requests.get(url)\n",
    "    home = r.content.decode(\"utf-8\")\n",
    "    parser = html.fromstring(home)\n",
    "    if r.status_code == 200:\n",
    "        #obtener titulos de libro\n",
    "        titulo ='//h3[@class=\"sc-bdVaJa kzUGaC RestaurantCatalogItem__RestaurantTitle-sc-8v9xyp-2 jWSTqf\"]//text()'\n",
    "        etitulo = parser.xpath(titulo)\n",
    "        contenido_dic[\"Nombre Tienda\"] = etitulo\n",
    "        #obtener estrellas\n",
    "        estrellas ='//div[@class=\"RestaurantCatalogItem__DetailContainer-sc-8v9xyp-5 fYfmKj\"]//span[@class=\"sc-bdVaJa exHXJW RestaurantCatalogItem__RestaurantRating-sc-8v9xyp-3 gfcfBv\"]//text()'\n",
    "        prc = parser.xpath(estrellas)\n",
    "        contenido_dic[\"Estrellas de Tienda\"] = prc\n",
    "    return contenido_dic"
   ]
  },
  {
   "cell_type": "code",
   "execution_count": 23,
   "metadata": {},
   "outputs": [],
   "source": [
    "links_entregar = get_urls(url_padre)"
   ]
  },
  {
   "cell_type": "code",
   "execution_count": 26,
   "metadata": {},
   "outputs": [
    {
     "data": {
      "text/plain": [
       "30"
      ]
     },
     "execution_count": 26,
     "metadata": {},
     "output_type": "execute_result"
    }
   ],
   "source": [
    "len(links_entregar)"
   ]
  },
  {
   "cell_type": "code",
   "execution_count": 27,
   "metadata": {},
   "outputs": [
    {
     "name": "stdout",
     "output_type": "stream",
     "text": [
      "Se esta scrapenado la pag numero 0\n",
      "Se esta scrapenado la pag numero 1\n",
      "Se esta scrapenado la pag numero 2\n",
      "Se esta scrapenado la pag numero 3\n",
      "Se esta scrapenado la pag numero 4\n",
      "Se esta scrapenado la pag numero 5\n",
      "Se esta scrapenado la pag numero 6\n",
      "Se esta scrapenado la pag numero 7\n",
      "Se esta scrapenado la pag numero 8\n",
      "Se esta scrapenado la pag numero 9\n",
      "Se esta scrapenado la pag numero 10\n",
      "Se esta scrapenado la pag numero 11\n",
      "Se esta scrapenado la pag numero 12\n",
      "Se esta scrapenado la pag numero 13\n",
      "Se esta scrapenado la pag numero 14\n",
      "Se esta scrapenado la pag numero 15\n",
      "Se esta scrapenado la pag numero 16\n",
      "Se esta scrapenado la pag numero 17\n",
      "Se esta scrapenado la pag numero 18\n",
      "Se esta scrapenado la pag numero 19\n",
      "Se esta scrapenado la pag numero 20\n",
      "Se esta scrapenado la pag numero 21\n",
      "Se esta scrapenado la pag numero 22\n",
      "Se esta scrapenado la pag numero 23\n",
      "Se esta scrapenado la pag numero 24\n",
      "Se esta scrapenado la pag numero 25\n",
      "Se esta scrapenado la pag numero 26\n",
      "Se esta scrapenado la pag numero 27\n",
      "Se esta scrapenado la pag numero 28\n",
      "Se esta scrapenado la pag numero 29\n"
     ]
    }
   ],
   "source": [
    "data = []\n",
    "for indx,i in enumerate(links_entregar):\n",
    "    print(f'Se esta scrapenado la pag numero {indx}')\n",
    "    data.append(parser_content(i))"
   ]
  },
  {
   "cell_type": "code",
   "execution_count": 28,
   "metadata": {},
   "outputs": [
    {
     "data": {
      "text/plain": [
       "[{'Nombre Tienda': [], 'Estrellas de Tienda': []},\n",
       " {'Nombre Tienda': [], 'Estrellas de Tienda': []},\n",
       " {'Nombre Tienda': [], 'Estrellas de Tienda': []},\n",
       " {'Nombre Tienda': [], 'Estrellas de Tienda': []},\n",
       " {'Nombre Tienda': [], 'Estrellas de Tienda': []},\n",
       " {'Nombre Tienda': [], 'Estrellas de Tienda': []},\n",
       " {'Nombre Tienda': [], 'Estrellas de Tienda': []},\n",
       " {'Nombre Tienda': [], 'Estrellas de Tienda': []},\n",
       " {'Nombre Tienda': [], 'Estrellas de Tienda': []},\n",
       " {'Nombre Tienda': [], 'Estrellas de Tienda': []},\n",
       " {'Nombre Tienda': [], 'Estrellas de Tienda': []},\n",
       " {'Nombre Tienda': [], 'Estrellas de Tienda': []},\n",
       " {'Nombre Tienda': [], 'Estrellas de Tienda': []},\n",
       " {'Nombre Tienda': [], 'Estrellas de Tienda': []},\n",
       " {'Nombre Tienda': [], 'Estrellas de Tienda': []},\n",
       " {'Nombre Tienda': [], 'Estrellas de Tienda': []},\n",
       " {'Nombre Tienda': [], 'Estrellas de Tienda': []},\n",
       " {'Nombre Tienda': [], 'Estrellas de Tienda': []},\n",
       " {'Nombre Tienda': [], 'Estrellas de Tienda': []},\n",
       " {'Nombre Tienda': [], 'Estrellas de Tienda': []},\n",
       " {'Nombre Tienda': [], 'Estrellas de Tienda': []},\n",
       " {'Nombre Tienda': [], 'Estrellas de Tienda': []},\n",
       " {'Nombre Tienda': [], 'Estrellas de Tienda': []},\n",
       " {'Nombre Tienda': [], 'Estrellas de Tienda': []},\n",
       " {'Nombre Tienda': [], 'Estrellas de Tienda': []},\n",
       " {'Nombre Tienda': [], 'Estrellas de Tienda': []},\n",
       " {'Nombre Tienda': [], 'Estrellas de Tienda': []},\n",
       " {'Nombre Tienda': [], 'Estrellas de Tienda': []},\n",
       " {'Nombre Tienda': [], 'Estrellas de Tienda': []},\n",
       " {'Nombre Tienda': [], 'Estrellas de Tienda': []}]"
      ]
     },
     "execution_count": 28,
     "metadata": {},
     "output_type": "execute_result"
    }
   ],
   "source": [
    "data"
   ]
  },
  {
   "cell_type": "code",
   "execution_count": 126,
   "metadata": {},
   "outputs": [],
   "source": [
    "df=pd.DataFrame()\n",
    "for j in data:\n",
    "    df1=pd.DataFrame(j)\n",
    "    df=pd.concat([df,df1])"
   ]
  },
  {
   "cell_type": "code",
   "execution_count": 127,
   "metadata": {},
   "outputs": [
    {
     "data": {
      "text/html": [
       "<div>\n",
       "<style scoped>\n",
       "    .dataframe tbody tr th:only-of-type {\n",
       "        vertical-align: middle;\n",
       "    }\n",
       "\n",
       "    .dataframe tbody tr th {\n",
       "        vertical-align: top;\n",
       "    }\n",
       "\n",
       "    .dataframe thead th {\n",
       "        text-align: right;\n",
       "    }\n",
       "</style>\n",
       "<table border=\"1\" class=\"dataframe\">\n",
       "  <thead>\n",
       "    <tr style=\"text-align: right;\">\n",
       "      <th></th>\n",
       "      <th>Nombre Tienda</th>\n",
       "      <th>Estrellas de Tienda</th>\n",
       "    </tr>\n",
       "  </thead>\n",
       "  <tbody>\n",
       "  </tbody>\n",
       "</table>\n",
       "</div>"
      ],
      "text/plain": [
       "Empty DataFrame\n",
       "Columns: [Nombre Tienda, Estrellas de Tienda]\n",
       "Index: []"
      ]
     },
     "execution_count": 127,
     "metadata": {},
     "output_type": "execute_result"
    }
   ],
   "source": [
    "df.head()"
   ]
  },
  {
   "cell_type": "code",
   "execution_count": null,
   "metadata": {},
   "outputs": [],
   "source": []
  }
 ],
 "metadata": {
  "interpreter": {
   "hash": "7353ea872765c79df33189606c3a2455290e71d5c557a487f86290eb518e6167"
  },
  "kernelspec": {
   "display_name": "Python 3.10.4 64-bit",
   "language": "python",
   "name": "python3"
  },
  "language_info": {
   "codemirror_mode": {
    "name": "ipython",
    "version": 3
   },
   "file_extension": ".py",
   "mimetype": "text/x-python",
   "name": "python",
   "nbconvert_exporter": "python",
   "pygments_lexer": "ipython3",
   "version": "3.10.4"
  },
  "orig_nbformat": 4
 },
 "nbformat": 4,
 "nbformat_minor": 2
}
